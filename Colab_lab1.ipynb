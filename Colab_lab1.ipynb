{
  "nbformat": 4,
  "nbformat_minor": 0,
  "metadata": {
    "colab": {
      "provenance": [],
      "authorship_tag": "ABX9TyPvSbbiedHNYtMYFYL8hf/h"
    },
    "kernelspec": {
      "name": "python3",
      "display_name": "Python 3"
    },
    "language_info": {
      "name": "python"
    }
  },
  "cells": [
    {
      "cell_type": "markdown",
      "source": [
        "##Markdown\n",
        "#Лещев Лаб1\n",
        "Выполнение первой лабораторной\n",
        "\n",
        "Дополнительные изменения\n",
        "1. Задача 1\n",
        "2. Задача 2\n",
        "3. Задача 3"
      ],
      "metadata": {
        "id": "81-RNqjeYC6a"
      }
    },
    {
      "cell_type": "markdown",
      "source": [],
      "metadata": {
        "id": "T4kNCQMjYPf5"
      }
    }
  ]
}